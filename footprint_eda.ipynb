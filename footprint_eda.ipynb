{
 "cells": [
  {
   "cell_type": "code",
   "execution_count": 51,
   "metadata": {},
   "outputs": [],
   "source": [
    "import pandas as pd\n",
    "from tqdm import tqdm\n",
    "from pandas import DataFrame as df"
   ]
  },
  {
   "cell_type": "code",
   "execution_count": 25,
   "metadata": {},
   "outputs": [],
   "source": [
    "data = pd.read_excel('G:/넥센타이어/Foot Print/FootPrintData_v1.0.xlsx')"
   ]
  },
  {
   "cell_type": "code",
   "execution_count": 38,
   "metadata": {},
   "outputs": [],
   "source": [
    "data = data.drop('Unnamed: 61',axis=1)"
   ]
  },
  {
   "cell_type": "code",
   "execution_count": 40,
   "metadata": {},
   "outputs": [
    {
     "data": {
      "text/html": [
       "<div>\n",
       "<style scoped>\n",
       "    .dataframe tbody tr th:only-of-type {\n",
       "        vertical-align: middle;\n",
       "    }\n",
       "\n",
       "    .dataframe tbody tr th {\n",
       "        vertical-align: top;\n",
       "    }\n",
       "\n",
       "    .dataframe thead th {\n",
       "        text-align: right;\n",
       "    }\n",
       "</style>\n",
       "<table border=\"1\" class=\"dataframe\">\n",
       "  <thead>\n",
       "    <tr style=\"text-align: right;\">\n",
       "      <th></th>\n",
       "      <th>Data0</th>\n",
       "      <th>Data2</th>\n",
       "      <th>Data3</th>\n",
       "      <th>Data4</th>\n",
       "      <th>Data5</th>\n",
       "      <th>Data6</th>\n",
       "      <th>Data7</th>\n",
       "      <th>Data8</th>\n",
       "      <th>Data9</th>\n",
       "      <th>Data10</th>\n",
       "      <th>...</th>\n",
       "      <th>Data58</th>\n",
       "      <th>Data59</th>\n",
       "      <th>Data60</th>\n",
       "      <th>Data61</th>\n",
       "      <th>Data62</th>\n",
       "      <th>Data63</th>\n",
       "      <th>Data64</th>\n",
       "      <th>Data65</th>\n",
       "      <th>Data66</th>\n",
       "      <th>Data67</th>\n",
       "    </tr>\n",
       "  </thead>\n",
       "  <tbody>\n",
       "    <tr>\n",
       "      <th>0</th>\n",
       "      <td>CTR-201901-0130-0045</td>\n",
       "      <td>1300D/2P 32EPI</td>\n",
       "      <td>WSD200</td>\n",
       "      <td>NYLON-66 1260D/1P</td>\n",
       "      <td>N'blue HD Plus</td>\n",
       "      <td>185.0</td>\n",
       "      <td>65.0</td>\n",
       "      <td>15.0</td>\n",
       "      <td>S</td>\n",
       "      <td>624.0</td>\n",
       "      <td>...</td>\n",
       "      <td>494.0</td>\n",
       "      <td>2.14</td>\n",
       "      <td>139.75</td>\n",
       "      <td>157.54</td>\n",
       "      <td>67.38</td>\n",
       "      <td>98.77</td>\n",
       "      <td>37.0</td>\n",
       "      <td>45.0</td>\n",
       "      <td>10.0</td>\n",
       "      <td>350</td>\n",
       "    </tr>\n",
       "    <tr>\n",
       "      <th>1</th>\n",
       "      <td>CTR-201901-0130-0042</td>\n",
       "      <td>1300D/2P 32EPI</td>\n",
       "      <td>WSD200</td>\n",
       "      <td>NYLON-66 1260D/1P</td>\n",
       "      <td>N'blue HD Plus</td>\n",
       "      <td>185.0</td>\n",
       "      <td>65.0</td>\n",
       "      <td>15.0</td>\n",
       "      <td>S</td>\n",
       "      <td>624.0</td>\n",
       "      <td>...</td>\n",
       "      <td>494.0</td>\n",
       "      <td>2.14</td>\n",
       "      <td>139.94</td>\n",
       "      <td>156.78</td>\n",
       "      <td>67.41</td>\n",
       "      <td>97.58</td>\n",
       "      <td>37.0</td>\n",
       "      <td>45.0</td>\n",
       "      <td>10.0</td>\n",
       "      <td>350</td>\n",
       "    </tr>\n",
       "    <tr>\n",
       "      <th>2</th>\n",
       "      <td>YTR-201903-0256-0264</td>\n",
       "      <td>1300D/2P 32EPI</td>\n",
       "      <td>WSD200</td>\n",
       "      <td>[AR/N66] HYBRID 1000/840</td>\n",
       "      <td>N'blue HD Plus</td>\n",
       "      <td>205.0</td>\n",
       "      <td>55.0</td>\n",
       "      <td>16.0</td>\n",
       "      <td>S</td>\n",
       "      <td>636.0</td>\n",
       "      <td>...</td>\n",
       "      <td>570.0</td>\n",
       "      <td>1.80</td>\n",
       "      <td>171.63</td>\n",
       "      <td>167.14</td>\n",
       "      <td>63.38</td>\n",
       "      <td>97.22</td>\n",
       "      <td>37.0</td>\n",
       "      <td>45.0</td>\n",
       "      <td>22.0</td>\n",
       "      <td>350</td>\n",
       "    </tr>\n",
       "    <tr>\n",
       "      <th>3</th>\n",
       "      <td>CTR-201901-0130-0014</td>\n",
       "      <td>1300D/2P 32EPI</td>\n",
       "      <td>WSD200</td>\n",
       "      <td>NYLON-66 1260D/1P</td>\n",
       "      <td>N'blue HD Plus</td>\n",
       "      <td>185.0</td>\n",
       "      <td>65.0</td>\n",
       "      <td>15.0</td>\n",
       "      <td>S</td>\n",
       "      <td>624.0</td>\n",
       "      <td>...</td>\n",
       "      <td>443.0</td>\n",
       "      <td>2.24</td>\n",
       "      <td>136.48</td>\n",
       "      <td>145.75</td>\n",
       "      <td>66.89</td>\n",
       "      <td>97.16</td>\n",
       "      <td>37.0</td>\n",
       "      <td>45.0</td>\n",
       "      <td>10.0</td>\n",
       "      <td>350</td>\n",
       "    </tr>\n",
       "    <tr>\n",
       "      <th>4</th>\n",
       "      <td>YTR-201905-0016-0017</td>\n",
       "      <td>1300D/2P 32EPI</td>\n",
       "      <td>WSD205</td>\n",
       "      <td>NYLON-66 1260D/2P 25EPI</td>\n",
       "      <td>N'blue HD Plus</td>\n",
       "      <td>215.0</td>\n",
       "      <td>60.0</td>\n",
       "      <td>16.0</td>\n",
       "      <td>S</td>\n",
       "      <td>659.0</td>\n",
       "      <td>...</td>\n",
       "      <td>530.0</td>\n",
       "      <td>1.80</td>\n",
       "      <td>156.55</td>\n",
       "      <td>167.91</td>\n",
       "      <td>68.51</td>\n",
       "      <td>97.05</td>\n",
       "      <td>37.0</td>\n",
       "      <td>45.0</td>\n",
       "      <td>21.5</td>\n",
       "      <td>300</td>\n",
       "    </tr>\n",
       "  </tbody>\n",
       "</table>\n",
       "<p>5 rows × 61 columns</p>\n",
       "</div>"
      ],
      "text/plain": [
       "                  Data0           Data2   Data3                     Data4  \\\n",
       "0  CTR-201901-0130-0045  1300D/2P 32EPI  WSD200         NYLON-66 1260D/1P   \n",
       "1  CTR-201901-0130-0042  1300D/2P 32EPI  WSD200         NYLON-66 1260D/1P   \n",
       "2  YTR-201903-0256-0264  1300D/2P 32EPI  WSD200  [AR/N66] HYBRID 1000/840   \n",
       "3  CTR-201901-0130-0014  1300D/2P 32EPI  WSD200         NYLON-66 1260D/1P   \n",
       "4  YTR-201905-0016-0017  1300D/2P 32EPI  WSD205   NYLON-66 1260D/2P 25EPI   \n",
       "\n",
       "            Data5  Data6  Data7  Data8 Data9  Data10  ...  Data58  Data59  \\\n",
       "0  N'blue HD Plus  185.0   65.0   15.0     S   624.0  ...   494.0    2.14   \n",
       "1  N'blue HD Plus  185.0   65.0   15.0     S   624.0  ...   494.0    2.14   \n",
       "2  N'blue HD Plus  205.0   55.0   16.0     S   636.0  ...   570.0    1.80   \n",
       "3  N'blue HD Plus  185.0   65.0   15.0     S   624.0  ...   443.0    2.24   \n",
       "4  N'blue HD Plus  215.0   60.0   16.0     S   659.0  ...   530.0    1.80   \n",
       "\n",
       "   Data60  Data61  Data62  Data63  Data64  Data65  Data66  Data67  \n",
       "0  139.75  157.54   67.38   98.77    37.0    45.0    10.0     350  \n",
       "1  139.94  156.78   67.41   97.58    37.0    45.0    10.0     350  \n",
       "2  171.63  167.14   63.38   97.22    37.0    45.0    22.0     350  \n",
       "3  136.48  145.75   66.89   97.16    37.0    45.0    10.0     350  \n",
       "4  156.55  167.91   68.51   97.05    37.0    45.0    21.5     300  \n",
       "\n",
       "[5 rows x 61 columns]"
      ]
     },
     "execution_count": 40,
     "metadata": {},
     "output_type": "execute_result"
    }
   ],
   "source": [
    "data.head()"
   ]
  },
  {
   "cell_type": "markdown",
   "metadata": {},
   "source": [
    "## 변수들 정보 확인"
   ]
  },
  {
   "cell_type": "code",
   "execution_count": 41,
   "metadata": {},
   "outputs": [
    {
     "name": "stdout",
     "output_type": "stream",
     "text": [
      "<class 'pandas.core.frame.DataFrame'>\n",
      "RangeIndex: 15656 entries, 0 to 15655\n",
      "Data columns (total 61 columns):\n",
      " #   Column  Non-Null Count  Dtype         \n",
      "---  ------  --------------  -----         \n",
      " 0   Data0   15587 non-null  object        \n",
      " 1   Data2   15587 non-null  object        \n",
      " 2   Data3   15587 non-null  object        \n",
      " 3   Data4   15587 non-null  object        \n",
      " 4   Data5   15587 non-null  object        \n",
      " 5   Data6   15587 non-null  float64       \n",
      " 6   Data7   15587 non-null  float64       \n",
      " 7   Data8   15587 non-null  float64       \n",
      " 8   Data9   15587 non-null  object        \n",
      " 9   Data10  15587 non-null  float64       \n",
      " 10  Data11  15587 non-null  float64       \n",
      " 11  Data12  15587 non-null  float64       \n",
      " 12  Data13  15587 non-null  float64       \n",
      " 13  Data14  15587 non-null  float64       \n",
      " 14  Data15  15587 non-null  float64       \n",
      " 15  Data16  15587 non-null  float64       \n",
      " 16  Data17  15587 non-null  float64       \n",
      " 17  Data18  15587 non-null  float64       \n",
      " 18  Data19  15587 non-null  float64       \n",
      " 19  Data20  15587 non-null  float64       \n",
      " 20  Data21  15587 non-null  float64       \n",
      " 21  Data22  15587 non-null  float64       \n",
      " 22  Data23  15587 non-null  float64       \n",
      " 23  Data24  15587 non-null  float64       \n",
      " 24  Data25  15587 non-null  object        \n",
      " 25  Data26  15587 non-null  float64       \n",
      " 26  Data27  15587 non-null  float64       \n",
      " 27  Data28  15587 non-null  float64       \n",
      " 28  Data29  15587 non-null  float64       \n",
      " 29  Data30  15587 non-null  float64       \n",
      " 30  Data31  15587 non-null  float64       \n",
      " 31  Data32  15587 non-null  float64       \n",
      " 32  Data33  15587 non-null  float64       \n",
      " 33  Data34  15587 non-null  float64       \n",
      " 34  Data35  15587 non-null  float64       \n",
      " 35  Data36  15587 non-null  float64       \n",
      " 36  Data37  15587 non-null  float64       \n",
      " 37  Data38  15587 non-null  float64       \n",
      " 38  Data39  15587 non-null  float64       \n",
      " 39  Data40  15587 non-null  float64       \n",
      " 40  Data41  15587 non-null  float64       \n",
      " 41  Data42  15587 non-null  float64       \n",
      " 42  Data43  15578 non-null  object        \n",
      " 43  Data44  15587 non-null  object        \n",
      " 44  Data45  15587 non-null  object        \n",
      " 45  Data47  15656 non-null  object        \n",
      " 46  Data49  15656 non-null  object        \n",
      " 47  Data51  15656 non-null  int64         \n",
      " 48  Data52  15656 non-null  object        \n",
      " 49  Data53  15656 non-null  object        \n",
      " 50  Data57  15656 non-null  datetime64[ns]\n",
      " 51  Data58  15656 non-null  float64       \n",
      " 52  Data59  15656 non-null  float64       \n",
      " 53  Data60  15656 non-null  float64       \n",
      " 54  Data61  15656 non-null  float64       \n",
      " 55  Data62  15656 non-null  float64       \n",
      " 56  Data63  15656 non-null  float64       \n",
      " 57  Data64  15656 non-null  float64       \n",
      " 58  Data65  15638 non-null  float64       \n",
      " 59  Data66  15656 non-null  float64       \n",
      " 60  Data67  15656 non-null  int64         \n",
      "dtypes: datetime64[ns](1), float64(44), int64(2), object(14)\n",
      "memory usage: 7.3+ MB\n"
     ]
    }
   ],
   "source": [
    "data.info() # date time 1개, float 44개, int 2개, 범주형 14개"
   ]
  },
  {
   "cell_type": "markdown",
   "metadata": {},
   "source": [
    "## 범주형 변수 카테고리 개수 확인"
   ]
  },
  {
   "cell_type": "code",
   "execution_count": 59,
   "metadata": {},
   "outputs": [
    {
     "name": "stdout",
     "output_type": "stream",
     "text": [
      "{'Data0': 15588, 'Data2': 13, 'Data3': 16, 'Data4': 6, 'Data5': 84, 'Data9': 8, 'Data25': 3, 'Data43': 253, 'Data44': 14, 'Data45': 13, 'Data47': 10, 'Data49': 14, 'Data52': 3, 'Data53': 7}\n"
     ]
    }
   ],
   "source": [
    "categorical_meta = {}\n",
    "for i in data.columns:\n",
    "    if data[i].dtype=='object':\n",
    "        categorical_meta[i]=len(set(data[i]))\n",
    "print(categorical_meta)"
   ]
  },
  {
   "cell_type": "markdown",
   "metadata": {},
   "source": [
    "## 결측치 확인"
   ]
  },
  {
   "cell_type": "code",
   "execution_count": 62,
   "metadata": {},
   "outputs": [
    {
     "name": "stdout",
     "output_type": "stream",
     "text": [
      "Data0     69\n",
      "Data2     69\n",
      "Data3     69\n",
      "Data4     69\n",
      "Data5     69\n",
      "          ..\n",
      "Data63     0\n",
      "Data64     0\n",
      "Data65    18\n",
      "Data66     0\n",
      "Data67     0\n",
      "Length: 61, dtype: int64\n"
     ]
    }
   ],
   "source": [
    "# 결측치 확인\n",
    "print(data.isna().sum())"
   ]
  },
  {
   "cell_type": "markdown",
   "metadata": {},
   "source": [
    "## 결측치 대체\n",
    "- 개수가 적은 관계로, 범주형 - 최빈값, 수치형 - 중앙값 으로 대체"
   ]
  },
  {
   "cell_type": "code",
   "execution_count": 93,
   "metadata": {},
   "outputs": [],
   "source": [
    "new_data = df()\n",
    "for i in data.columns:\n",
    "    if i == 'Data57':\n",
    "        new_data.index = data[i]\n",
    "    else:\n",
    "        if data[i].dtype == 'object':\n",
    "            new_data[i] = data[i].fillna('most freq')\n",
    "        else:\n",
    "            new_data[i] = data[i].fillna('median')"
   ]
  },
  {
   "cell_type": "code",
   "execution_count": 95,
   "metadata": {},
   "outputs": [],
   "source": [
    "new_data.to_csv('G:/넥센타이어/Foot Print/footprint_v2.csv',encoding='utf-8')"
   ]
  },
  {
   "cell_type": "code",
   "execution_count": 96,
   "metadata": {},
   "outputs": [],
   "source": [
    "new_data = pd.read_csv('G:/넥센타이어/Foot Print/footprint_v2.csv',encoding='utf-8',index_col=0)"
   ]
  }
 ],
 "metadata": {
  "kernelspec": {
   "display_name": "Python 3",
   "language": "python",
   "name": "python3"
  },
  "language_info": {
   "codemirror_mode": {
    "name": "ipython",
    "version": 3
   },
   "file_extension": ".py",
   "mimetype": "text/x-python",
   "name": "python",
   "nbconvert_exporter": "python",
   "pygments_lexer": "ipython3",
   "version": "3.8.3"
  }
 },
 "nbformat": 4,
 "nbformat_minor": 4
}
