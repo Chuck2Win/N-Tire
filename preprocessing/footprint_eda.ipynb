{
 "cells": [
  {
   "cell_type": "code",
   "execution_count": 104,
   "metadata": {},
   "outputs": [],
   "source": [
    "import pandas as pd\n",
    "from tqdm import tqdm\n",
    "from pandas import DataFrame as df"
   ]
  },
  {
   "cell_type": "code",
   "execution_count": 105,
   "metadata": {},
   "outputs": [],
   "source": [
    "data = pd.read_excel('G:/넥센타이어/Foot Print/FootPrintData_v1.0.xlsx')"
   ]
  },
  {
   "cell_type": "code",
   "execution_count": 106,
   "metadata": {},
   "outputs": [],
   "source": [
    "data.drop(['Data0','Data64','Data65','Data66','Data67','Unnamed: 61'],axis=1,inplace=True)"
   ]
  },
  {
   "cell_type": "code",
   "execution_count": 107,
   "metadata": {},
   "outputs": [
    {
     "data": {
      "text/html": [
       "<div>\n",
       "<style scoped>\n",
       "    .dataframe tbody tr th:only-of-type {\n",
       "        vertical-align: middle;\n",
       "    }\n",
       "\n",
       "    .dataframe tbody tr th {\n",
       "        vertical-align: top;\n",
       "    }\n",
       "\n",
       "    .dataframe thead th {\n",
       "        text-align: right;\n",
       "    }\n",
       "</style>\n",
       "<table border=\"1\" class=\"dataframe\">\n",
       "  <thead>\n",
       "    <tr style=\"text-align: right;\">\n",
       "      <th></th>\n",
       "      <th>Data2</th>\n",
       "      <th>Data3</th>\n",
       "      <th>Data4</th>\n",
       "      <th>Data5</th>\n",
       "      <th>Data6</th>\n",
       "      <th>Data7</th>\n",
       "      <th>Data8</th>\n",
       "      <th>Data9</th>\n",
       "      <th>Data10</th>\n",
       "      <th>Data11</th>\n",
       "      <th>...</th>\n",
       "      <th>Data51</th>\n",
       "      <th>Data52</th>\n",
       "      <th>Data53</th>\n",
       "      <th>Data57</th>\n",
       "      <th>Data58</th>\n",
       "      <th>Data59</th>\n",
       "      <th>Data60</th>\n",
       "      <th>Data61</th>\n",
       "      <th>Data62</th>\n",
       "      <th>Data63</th>\n",
       "    </tr>\n",
       "  </thead>\n",
       "  <tbody>\n",
       "    <tr>\n",
       "      <th>0</th>\n",
       "      <td>1300D/2P 32EPI</td>\n",
       "      <td>WSD200</td>\n",
       "      <td>NYLON-66 1260D/1P</td>\n",
       "      <td>N'blue HD Plus</td>\n",
       "      <td>185.0</td>\n",
       "      <td>65.0</td>\n",
       "      <td>15.0</td>\n",
       "      <td>S</td>\n",
       "      <td>624.0</td>\n",
       "      <td>143.0</td>\n",
       "      <td>...</td>\n",
       "      <td>25</td>\n",
       "      <td>1P</td>\n",
       "      <td>1G</td>\n",
       "      <td>2019-01-18</td>\n",
       "      <td>494.0</td>\n",
       "      <td>2.14</td>\n",
       "      <td>139.75</td>\n",
       "      <td>157.54</td>\n",
       "      <td>67.38</td>\n",
       "      <td>98.77</td>\n",
       "    </tr>\n",
       "    <tr>\n",
       "      <th>1</th>\n",
       "      <td>1300D/2P 32EPI</td>\n",
       "      <td>WSD200</td>\n",
       "      <td>NYLON-66 1260D/1P</td>\n",
       "      <td>N'blue HD Plus</td>\n",
       "      <td>185.0</td>\n",
       "      <td>65.0</td>\n",
       "      <td>15.0</td>\n",
       "      <td>S</td>\n",
       "      <td>624.0</td>\n",
       "      <td>143.0</td>\n",
       "      <td>...</td>\n",
       "      <td>25</td>\n",
       "      <td>1P</td>\n",
       "      <td>2F</td>\n",
       "      <td>2019-01-18</td>\n",
       "      <td>494.0</td>\n",
       "      <td>2.14</td>\n",
       "      <td>139.94</td>\n",
       "      <td>156.78</td>\n",
       "      <td>67.41</td>\n",
       "      <td>97.58</td>\n",
       "    </tr>\n",
       "    <tr>\n",
       "      <th>2</th>\n",
       "      <td>1300D/2P 32EPI</td>\n",
       "      <td>WSD200</td>\n",
       "      <td>[AR/N66] HYBRID 1000/840</td>\n",
       "      <td>N'blue HD Plus</td>\n",
       "      <td>205.0</td>\n",
       "      <td>55.0</td>\n",
       "      <td>16.0</td>\n",
       "      <td>S</td>\n",
       "      <td>636.0</td>\n",
       "      <td>164.0</td>\n",
       "      <td>...</td>\n",
       "      <td>23</td>\n",
       "      <td>1P</td>\n",
       "      <td>1G</td>\n",
       "      <td>2019-04-10</td>\n",
       "      <td>570.0</td>\n",
       "      <td>1.80</td>\n",
       "      <td>171.63</td>\n",
       "      <td>167.14</td>\n",
       "      <td>63.38</td>\n",
       "      <td>97.22</td>\n",
       "    </tr>\n",
       "    <tr>\n",
       "      <th>3</th>\n",
       "      <td>1300D/2P 32EPI</td>\n",
       "      <td>WSD200</td>\n",
       "      <td>NYLON-66 1260D/1P</td>\n",
       "      <td>N'blue HD Plus</td>\n",
       "      <td>185.0</td>\n",
       "      <td>65.0</td>\n",
       "      <td>15.0</td>\n",
       "      <td>S</td>\n",
       "      <td>624.0</td>\n",
       "      <td>143.0</td>\n",
       "      <td>...</td>\n",
       "      <td>25</td>\n",
       "      <td>1P</td>\n",
       "      <td>1G</td>\n",
       "      <td>2019-01-18</td>\n",
       "      <td>443.0</td>\n",
       "      <td>2.24</td>\n",
       "      <td>136.48</td>\n",
       "      <td>145.75</td>\n",
       "      <td>66.89</td>\n",
       "      <td>97.16</td>\n",
       "    </tr>\n",
       "    <tr>\n",
       "      <th>4</th>\n",
       "      <td>1300D/2P 32EPI</td>\n",
       "      <td>WSD205</td>\n",
       "      <td>NYLON-66 1260D/2P 25EPI</td>\n",
       "      <td>N'blue HD Plus</td>\n",
       "      <td>215.0</td>\n",
       "      <td>60.0</td>\n",
       "      <td>16.0</td>\n",
       "      <td>S</td>\n",
       "      <td>659.0</td>\n",
       "      <td>159.0</td>\n",
       "      <td>...</td>\n",
       "      <td>27</td>\n",
       "      <td>1P</td>\n",
       "      <td>1G</td>\n",
       "      <td>2019-05-11</td>\n",
       "      <td>530.0</td>\n",
       "      <td>1.80</td>\n",
       "      <td>156.55</td>\n",
       "      <td>167.91</td>\n",
       "      <td>68.51</td>\n",
       "      <td>97.05</td>\n",
       "    </tr>\n",
       "  </tbody>\n",
       "</table>\n",
       "<p>5 rows × 56 columns</p>\n",
       "</div>"
      ],
      "text/plain": [
       "            Data2   Data3                     Data4           Data5  Data6  \\\n",
       "0  1300D/2P 32EPI  WSD200         NYLON-66 1260D/1P  N'blue HD Plus  185.0   \n",
       "1  1300D/2P 32EPI  WSD200         NYLON-66 1260D/1P  N'blue HD Plus  185.0   \n",
       "2  1300D/2P 32EPI  WSD200  [AR/N66] HYBRID 1000/840  N'blue HD Plus  205.0   \n",
       "3  1300D/2P 32EPI  WSD200         NYLON-66 1260D/1P  N'blue HD Plus  185.0   \n",
       "4  1300D/2P 32EPI  WSD205   NYLON-66 1260D/2P 25EPI  N'blue HD Plus  215.0   \n",
       "\n",
       "   Data7  Data8 Data9  Data10  Data11  ...  Data51  Data52  Data53     Data57  \\\n",
       "0   65.0   15.0     S   624.0   143.0  ...      25      1P      1G 2019-01-18   \n",
       "1   65.0   15.0     S   624.0   143.0  ...      25      1P      2F 2019-01-18   \n",
       "2   55.0   16.0     S   636.0   164.0  ...      23      1P      1G 2019-04-10   \n",
       "3   65.0   15.0     S   624.0   143.0  ...      25      1P      1G 2019-01-18   \n",
       "4   60.0   16.0     S   659.0   159.0  ...      27      1P      1G 2019-05-11   \n",
       "\n",
       "   Data58  Data59  Data60  Data61  Data62  Data63  \n",
       "0   494.0    2.14  139.75  157.54   67.38   98.77  \n",
       "1   494.0    2.14  139.94  156.78   67.41   97.58  \n",
       "2   570.0    1.80  171.63  167.14   63.38   97.22  \n",
       "3   443.0    2.24  136.48  145.75   66.89   97.16  \n",
       "4   530.0    1.80  156.55  167.91   68.51   97.05  \n",
       "\n",
       "[5 rows x 56 columns]"
      ]
     },
     "execution_count": 107,
     "metadata": {},
     "output_type": "execute_result"
    }
   ],
   "source": [
    "data.head()"
   ]
  },
  {
   "cell_type": "markdown",
   "metadata": {},
   "source": [
    "## 변수들 정보 확인"
   ]
  },
  {
   "cell_type": "markdown",
   "metadata": {},
   "source": [
    "### 중복되는 경우 제거 \n",
    "- Data64,Data65,Data66,Data67 ~ Data0(얘는 필요가 없음)\n",
    "- 종속 변수 : Data60,Data62,Data63"
   ]
  },
  {
   "cell_type": "markdown",
   "metadata": {},
   "source": [
    "#### 정보\n",
    "56개 컬럼   \n",
    "date time 1개  \n",
    "float 41개  \n",
    "int 1개 \n",
    "범주형 13개  "
   ]
  },
  {
   "cell_type": "code",
   "execution_count": 108,
   "metadata": {},
   "outputs": [
    {
     "name": "stdout",
     "output_type": "stream",
     "text": [
      "<class 'pandas.core.frame.DataFrame'>\n",
      "RangeIndex: 15656 entries, 0 to 15655\n",
      "Data columns (total 56 columns):\n",
      " #   Column  Non-Null Count  Dtype         \n",
      "---  ------  --------------  -----         \n",
      " 0   Data2   15587 non-null  object        \n",
      " 1   Data3   15587 non-null  object        \n",
      " 2   Data4   15587 non-null  object        \n",
      " 3   Data5   15587 non-null  object        \n",
      " 4   Data6   15587 non-null  float64       \n",
      " 5   Data7   15587 non-null  float64       \n",
      " 6   Data8   15587 non-null  float64       \n",
      " 7   Data9   15587 non-null  object        \n",
      " 8   Data10  15587 non-null  float64       \n",
      " 9   Data11  15587 non-null  float64       \n",
      " 10  Data12  15587 non-null  float64       \n",
      " 11  Data13  15587 non-null  float64       \n",
      " 12  Data14  15587 non-null  float64       \n",
      " 13  Data15  15587 non-null  float64       \n",
      " 14  Data16  15587 non-null  float64       \n",
      " 15  Data17  15587 non-null  float64       \n",
      " 16  Data18  15587 non-null  float64       \n",
      " 17  Data19  15587 non-null  float64       \n",
      " 18  Data20  15587 non-null  float64       \n",
      " 19  Data21  15587 non-null  float64       \n",
      " 20  Data22  15587 non-null  float64       \n",
      " 21  Data23  15587 non-null  float64       \n",
      " 22  Data24  15587 non-null  float64       \n",
      " 23  Data25  15587 non-null  object        \n",
      " 24  Data26  15587 non-null  float64       \n",
      " 25  Data27  15587 non-null  float64       \n",
      " 26  Data28  15587 non-null  float64       \n",
      " 27  Data29  15587 non-null  float64       \n",
      " 28  Data30  15587 non-null  float64       \n",
      " 29  Data31  15587 non-null  float64       \n",
      " 30  Data32  15587 non-null  float64       \n",
      " 31  Data33  15587 non-null  float64       \n",
      " 32  Data34  15587 non-null  float64       \n",
      " 33  Data35  15587 non-null  float64       \n",
      " 34  Data36  15587 non-null  float64       \n",
      " 35  Data37  15587 non-null  float64       \n",
      " 36  Data38  15587 non-null  float64       \n",
      " 37  Data39  15587 non-null  float64       \n",
      " 38  Data40  15587 non-null  float64       \n",
      " 39  Data41  15587 non-null  float64       \n",
      " 40  Data42  15587 non-null  float64       \n",
      " 41  Data43  15578 non-null  object        \n",
      " 42  Data44  15587 non-null  object        \n",
      " 43  Data45  15587 non-null  object        \n",
      " 44  Data47  15656 non-null  object        \n",
      " 45  Data49  15656 non-null  object        \n",
      " 46  Data51  15656 non-null  int64         \n",
      " 47  Data52  15656 non-null  object        \n",
      " 48  Data53  15656 non-null  object        \n",
      " 49  Data57  15656 non-null  datetime64[ns]\n",
      " 50  Data58  15656 non-null  float64       \n",
      " 51  Data59  15656 non-null  float64       \n",
      " 52  Data60  15656 non-null  float64       \n",
      " 53  Data61  15656 non-null  float64       \n",
      " 54  Data62  15656 non-null  float64       \n",
      " 55  Data63  15656 non-null  float64       \n",
      "dtypes: datetime64[ns](1), float64(41), int64(1), object(13)\n",
      "memory usage: 6.7+ MB\n"
     ]
    }
   ],
   "source": [
    "data.info() "
   ]
  },
  {
   "cell_type": "markdown",
   "metadata": {},
   "source": [
    "## 범주형 변수 카테고리 개수 확인"
   ]
  },
  {
   "cell_type": "code",
   "execution_count": 109,
   "metadata": {},
   "outputs": [
    {
     "name": "stdout",
     "output_type": "stream",
     "text": [
      "{'Data2': 13, 'Data3': 16, 'Data4': 6, 'Data5': 84, 'Data9': 8, 'Data25': 3, 'Data43': 253, 'Data44': 14, 'Data45': 13, 'Data47': 10, 'Data49': 14, 'Data52': 3, 'Data53': 7}\n"
     ]
    }
   ],
   "source": [
    "categorical_meta = {}\n",
    "el={}\n",
    "for i in data.columns:\n",
    "    if data[i].dtype=='object':\n",
    "        categorical_meta[i]=len(set(data[i]))\n",
    "    else:\n",
    "        el[i]=0\n",
    "print(categorical_meta)"
   ]
  },
  {
   "cell_type": "markdown",
   "metadata": {},
   "source": [
    "## 결측치 확인"
   ]
  },
  {
   "cell_type": "code",
   "execution_count": 110,
   "metadata": {},
   "outputs": [
    {
     "name": "stdout",
     "output_type": "stream",
     "text": [
      "Data2     69\n",
      "Data3     69\n",
      "Data4     69\n",
      "Data5     69\n",
      "Data6     69\n",
      "Data7     69\n",
      "Data8     69\n",
      "Data9     69\n",
      "Data10    69\n",
      "Data11    69\n",
      "Data12    69\n",
      "Data13    69\n",
      "Data14    69\n",
      "Data15    69\n",
      "Data16    69\n",
      "Data17    69\n",
      "Data18    69\n",
      "Data19    69\n",
      "Data20    69\n",
      "Data21    69\n",
      "Data22    69\n",
      "Data23    69\n",
      "Data24    69\n",
      "Data25    69\n",
      "Data26    69\n",
      "Data27    69\n",
      "Data28    69\n",
      "Data29    69\n",
      "Data30    69\n",
      "Data31    69\n",
      "Data32    69\n",
      "Data33    69\n",
      "Data34    69\n",
      "Data35    69\n",
      "Data36    69\n",
      "Data37    69\n",
      "Data38    69\n",
      "Data39    69\n",
      "Data40    69\n",
      "Data41    69\n",
      "Data42    69\n",
      "Data43    78\n",
      "Data44    69\n",
      "Data45    69\n",
      "Data47     0\n",
      "Data49     0\n",
      "Data51     0\n",
      "Data52     0\n",
      "Data53     0\n",
      "Data57     0\n",
      "Data58     0\n",
      "Data59     0\n",
      "Data60     0\n",
      "Data61     0\n",
      "Data62     0\n",
      "Data63     0\n",
      "dtype: int64\n"
     ]
    }
   ],
   "source": [
    "# 결측치 확인\n",
    "print(data.isna().sum())"
   ]
  },
  {
   "cell_type": "markdown",
   "metadata": {},
   "source": [
    "## 결측치 대체\n",
    "- 개수가 적은 관계로, 범주형 - 최빈값, 수치형 - 평균값 으로 대체"
   ]
  },
  {
   "cell_type": "code",
   "execution_count": 98,
   "metadata": {},
   "outputs": [],
   "source": [
    "new_data = df()\n",
    "for i in data.columns:\n",
    "    if i=='Data57':\n",
    "        new_data[i] = data[i]\n",
    "        new_data[i]=new_data[i].astype('datetime64')\n",
    "    else:\n",
    "        if data[i].dtype == 'object':\n",
    "            most_freq = data[i].value_counts(dropna=True).idxmax()\n",
    "            new_data[i] = data[i].fillna(most_freq)\n",
    "        else:\n",
    "            new_data[i] = data[i].fillna(data[i].mean())            "
   ]
  },
  {
   "cell_type": "markdown",
   "metadata": {},
   "source": [
    "### 시간대로 sort(올림차순)"
   ]
  },
  {
   "cell_type": "code",
   "execution_count": 99,
   "metadata": {},
   "outputs": [],
   "source": [
    "new_data=new_data.sort_values(by='Data57',axis=0)\n",
    "new_data.to_csv('G:/넥센타이어/Foot Print/footprint_v2.csv',encoding='utf-8',index=False)"
   ]
  }
 ],
 "metadata": {
  "kernelspec": {
   "display_name": "Python 3",
   "language": "python",
   "name": "python3"
  },
  "language_info": {
   "codemirror_mode": {
    "name": "ipython",
    "version": 3
   },
   "file_extension": ".py",
   "mimetype": "text/x-python",
   "name": "python",
   "nbconvert_exporter": "python",
   "pygments_lexer": "ipython3",
   "version": "3.8.3"
  }
 },
 "nbformat": 4,
 "nbformat_minor": 4
}
